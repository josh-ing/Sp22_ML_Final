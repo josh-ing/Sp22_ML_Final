{
 "cells": [
  {
   "cell_type": "code",
   "execution_count": 23,
   "metadata": {},
   "outputs": [
    {
     "name": "stdout",
     "output_type": "stream",
     "text": [
      "True\n",
      "1\n",
      "11.3\n",
      "cuda\n"
     ]
    }
   ],
   "source": [
    "import torch\n",
    "import random\n",
    "import numpy as np\n",
    "import matplotlib.pyplot as plt\n",
    "\n",
    "RANDOM_SEED = 42\n",
    "torch.manual_seed(RANDOM_SEED)\n",
    "random.seed(RANDOM_SEED)\n",
    "np.random.seed(RANDOM_SEED)\n",
    "\n",
    "print(torch.cuda.is_available())\n",
    "print(torch.cuda.device_count())\n",
    "print(torch.version.cuda)\n",
    "device = torch.device('cuda' if torch.cuda.is_available() else 'cpu')\n",
    "print(device)"
   ]
  },
  {
   "cell_type": "code",
   "execution_count": 2,
   "metadata": {},
   "outputs": [],
   "source": [
    "import re\n",
    "import html\n",
    "\n",
    "def spec_add_spaces(t: str) -> str:\n",
    "    \"Add spaces around / and # in `t`. \\n\"\n",
    "    return re.sub(r\"([/#\\n])\", r\" \\1 \", t)\n",
    "\n",
    "def rm_useless_spaces(t: str) -> str:\n",
    "    \"Remove multiple spaces in `t`.\"\n",
    "    return re.sub(\" {2,}\", \" \", t)\n",
    "\n",
    "def replace_multi_newline(t: str) -> str:\n",
    "    return re.sub(r\"(\\n(\\s)*){2,}\", \"\\n\", t)\n",
    "\n",
    "def fix_html(x: str) -> str:\n",
    "    \"List of replacements from html strings in `x`.\"\n",
    "    re1 = re.compile(r\"  +\")\n",
    "    x = (\n",
    "        x.replace(\"#39;\", \"'\")\n",
    "        .replace(\"amp;\", \"&\")\n",
    "        .replace(\"#146;\", \"'\")\n",
    "        .replace(\"nbsp;\", \" \")\n",
    "        .replace(\"#36;\", \"$\")\n",
    "        .replace(\"\\\\n\", \"\\n\")\n",
    "        .replace(\"quot;\", \"'\")\n",
    "        .replace(\"<br />\", \"\\n\")\n",
    "        .replace('\\\\\"', '\"')\n",
    "        .replace(\" @.@ \", \".\")\n",
    "        .replace(\" @-@ \", \"-\")\n",
    "        .replace(\" @,@ \", \",\")\n",
    "        .replace(\"\\\\\", \" \\\\ \")\n",
    "    )\n",
    "    return re1.sub(\" \", html.unescape(x))\n",
    "\n",
    "def clean_text(input_text):\n",
    "    text = fix_html(input_text)\n",
    "    text = replace_multi_newline(text)\n",
    "    text = spec_add_spaces(text)\n",
    "    text = rm_useless_spaces(text)\n",
    "    text = text.strip()\n",
    "    return text"
   ]
  },
  {
   "cell_type": "code",
   "execution_count": 3,
   "metadata": {},
   "outputs": [
    {
     "name": "stderr",
     "output_type": "stream",
     "text": [
      "[nltk_data] Downloading package punkt to\n",
      "[nltk_data]     C:\\Users\\joshu\\AppData\\Roaming\\nltk_data...\n",
      "[nltk_data]   Package punkt is already up-to-date!\n"
     ]
    }
   ],
   "source": [
    "import pandas as pd\n",
    "import nltk\n",
    "from tqdm import tqdm\n",
    "\n",
    "nltk.download('punkt')\n",
    "df = pd.read_csv(\"KickstarterData.csv\")\n",
    "df = df.dropna(axis = 0)\n",
    "df[\"tokenized\"] = df[\"name\"].apply(lambda x: nltk.word_tokenize(clean_text(x.lower())))\n",
    "df = df[(df[\"state\"] == \"successful\") |(df[\"state\"] == \"failed\")]\n",
    "df[\"hit\"] = np.where(df[\"state\"] == \"successful\", 1, 0)"
   ]
  },
  {
   "cell_type": "code",
   "execution_count": 4,
   "metadata": {},
   "outputs": [
    {
     "name": "stdout",
     "output_type": "stream",
     "text": [
      "(133851, 17)\n",
      "(197611, 17)\n"
     ]
    }
   ],
   "source": [
    "print(df[df[\"hit\"] == 1].shape)\n",
    "print(df[df[\"hit\"] == 0].shape)"
   ]
  },
  {
   "cell_type": "code",
   "execution_count": 5,
   "metadata": {},
   "outputs": [],
   "source": [
    "from collections import Counter\n",
    "PADDING_VALUE = 0\n",
    "UNK_VALUE     = 1\n",
    "\n",
    "def split_train_val_test(df, props=[.8, .1, .1]):\n",
    "    assert round(sum(props), 2) == 1 and len(props) >= 2\n",
    "    train_df, test_df, val_df = None, None, None\n",
    "\n",
    "    first_partition = int(df.shape[0] * props[0])\n",
    "    second_partition = int(df.shape[0] * (props[0] + props[1]))\n",
    "\n",
    "    train_df = df.iloc[:first_partition,:]\n",
    "    val_df = df.iloc[first_partition:second_partition,:]\n",
    "    test_df = df.iloc[second_partition:,:]\n",
    "    \n",
    "    return train_df, val_df, test_df\n",
    "\n",
    "def generate_vocab_map(df, cutoff=2):\n",
    "    vocab          = {\"\": PADDING_VALUE, \"UNK\": UNK_VALUE}\n",
    "    reversed_vocab = None\n",
    "\n",
    "    cnt = {}\n",
    "    for tokens in df[\"tokenized\"]:\n",
    "      for word in tokens:\n",
    "        if (word in cnt):\n",
    "          cnt[word] = cnt[word] + 1\n",
    "        else:\n",
    "          cnt[word] = 1\n",
    "\n",
    "    reversed_vocab = {}\n",
    "    reversed_vocab[PADDING_VALUE] = \"\"\n",
    "    reversed_vocab[UNK_VALUE] = \"UNK\"\n",
    "    int_ID = 2\n",
    "    for word in cnt:\n",
    "      if (cnt[word] > cutoff):\n",
    "        vocab[word] = int_ID\n",
    "        reversed_vocab[int_ID] = word\n",
    "        int_ID = int_ID + 1\n",
    "    \n",
    "    return vocab, reversed_vocab"
   ]
  },
  {
   "cell_type": "code",
   "execution_count": 6,
   "metadata": {},
   "outputs": [],
   "source": [
    "df                         = df.sample(frac=0.1)\n",
    "train_df, val_df, test_df  = split_train_val_test(df, props=[.8, .1, .1])\n",
    "train_vocab, reverse_vocab = generate_vocab_map(train_df)"
   ]
  },
  {
   "cell_type": "code",
   "execution_count": 7,
   "metadata": {},
   "outputs": [],
   "source": [
    "from torch.utils.data import Dataset\n",
    "\n",
    "class WordDataset(Dataset):\n",
    "    \n",
    "    def __init__(self, vocab, df, max_length=50):\n",
    "        self.vocab = vocab\n",
    "        self.df = df\n",
    "        self.max_length = max_length\n",
    "\n",
    "        return\n",
    "    \n",
    "    # return the length of the dataframe instance variable\n",
    "    def __len__(self):      \n",
    "        df_len = self.df.shape[0]\n",
    "        return df_len\n",
    "\n",
    "    def __getitem__(self, index: int):\n",
    "        self.df = self.df.reset_index(drop=True)\n",
    "        for i in range(len(self.df[\"tokenized\"][index])):\n",
    "          if not(self.df[\"tokenized\"][index][i] in self.vocab):\n",
    "            self.df[\"tokenized\"][index][i] = \"UNK\"\n",
    "\n",
    "        mapped = []\n",
    "        for word in self.df[\"tokenized\"][index]:\n",
    "          if(len(mapped) < self.max_length):\n",
    "            mapped.append(self.vocab[word])\n",
    "        tokenized_word_tensor = torch.LongTensor(mapped)\n",
    "        tokenized_word_tensor = tokenized_word_tensor.to(torch.device(device))\n",
    "\n",
    "        curr_label = self.df[\"hit\"][index]\n",
    "\n",
    "        return tokenized_word_tensor, curr_label\n"
   ]
  },
  {
   "cell_type": "code",
   "execution_count": 8,
   "metadata": {},
   "outputs": [],
   "source": [
    "from torch.utils.data import RandomSampler\n",
    "\n",
    "train_dataset = WordDataset(train_vocab, train_df)\n",
    "val_dataset   = WordDataset(train_vocab, val_df)\n",
    "test_dataset  = WordDataset(train_vocab, test_df)\n",
    " \n",
    "train_sampler = RandomSampler(train_dataset)\n",
    "val_sampler   = RandomSampler(val_dataset)\n",
    "test_sampler  = RandomSampler(test_dataset)"
   ]
  },
  {
   "cell_type": "code",
   "execution_count": 9,
   "metadata": {},
   "outputs": [],
   "source": [
    "from torch.nn.utils.rnn import pad_sequence\n",
    "\n",
    "def collate_fn(batch, padding_value=PADDING_VALUE):\n",
    "    padded_tokens, y_labels = None, None\n",
    "\n",
    "    ptlist = [] # padded_tokens list version\n",
    "    ylist = []\n",
    "    for tup in batch:\n",
    "      ptlist.append(tup[0])\n",
    "      ylist.append(tup[1])\n",
    "    padded_tokens = pad_sequence(ptlist, batch_first = True, padding_value = padding_value)\n",
    "    y_labels = torch.LongTensor(ylist)\n",
    "    \n",
    "    return padded_tokens, y_labels"
   ]
  },
  {
   "cell_type": "code",
   "execution_count": 10,
   "metadata": {},
   "outputs": [],
   "source": [
    "from torch.utils.data import DataLoader\n",
    "BATCH_SIZE = 16\n",
    "\n",
    "train_iterator = DataLoader(train_dataset, batch_size=BATCH_SIZE, sampler=train_sampler, collate_fn=collate_fn)\n",
    "val_iterator   = DataLoader(val_dataset, batch_size=BATCH_SIZE, sampler=val_sampler, collate_fn=collate_fn)\n",
    "test_iterator  = DataLoader(test_dataset, batch_size=BATCH_SIZE, sampler=test_sampler, collate_fn=collate_fn)"
   ]
  },
  {
   "cell_type": "code",
   "execution_count": 11,
   "metadata": {},
   "outputs": [],
   "source": [
    "import torch.nn as nn\n",
    "\n",
    "class NBOW(nn.Module):\n",
    "    \n",
    "    def __init__(self, vocab_size, embedding_dim):\n",
    "        super().__init__()\n",
    "        self.embedding_layer = nn.Embedding(vocab_size, embedding_dim, padding_idx=0)\n",
    "        self.lin_sig = nn.Sequential(\n",
    "            nn.Linear(embedding_dim, 1),\n",
    "            nn.Sigmoid()\n",
    "        )\n",
    "\n",
    "    def forward(self, x):\n",
    "        embedded = self.embedding_layer(x)\n",
    "        mean_embed = torch.mean(embedded, axis = 1)\n",
    "        x_res = self.lin_sig(mean_embed)\n",
    "\n",
    "        return x_res"
   ]
  },
  {
   "cell_type": "code",
   "execution_count": 12,
   "metadata": {},
   "outputs": [],
   "source": [
    "model = NBOW(vocab_size = len(train_vocab.keys()), embedding_dim = 300).to(device)"
   ]
  },
  {
   "cell_type": "code",
   "execution_count": 13,
   "metadata": {},
   "outputs": [],
   "source": [
    "from torch.optim import Adam\n",
    "\n",
    "criterion = nn.BCELoss().to(torch.device(device))\n",
    "optimizer = Adam(model.parameters(), lr = 0.003)"
   ]
  },
  {
   "cell_type": "code",
   "execution_count": 14,
   "metadata": {},
   "outputs": [],
   "source": [
    "def train_loop(model, criterion, optim, iterator):\n",
    "    model.train()\n",
    "    total_loss = 0\n",
    "    for x, y in tqdm(iterator):\n",
    "\n",
    "        optim.zero_grad()\n",
    "        loss = criterion(model.forward(x).reshape(y.shape), y.float().to(torch.device(device)))\n",
    "        total_loss += loss\n",
    "        loss.backward()\n",
    "        optim.step()\n",
    "\n",
    "    return total_loss\n",
    "\n",
    "def val_loop(model, iterator):\n",
    "    true, pred = [], []\n",
    "\n",
    "    for x, y in tqdm(iterator):\n",
    "      for tv in y:\n",
    "        if (tv == 0):\n",
    "          true.append(False)\n",
    "        elif (tv == 1):\n",
    "          true.append(True)\n",
    "      p = model.forward(x)\n",
    "      for pv in p:\n",
    "        if (pv <= 0.5):\n",
    "          pred.append(False)\n",
    "        else:\n",
    "          pred.append(True)\n",
    "\n",
    "    return true, pred"
   ]
  },
  {
   "cell_type": "code",
   "execution_count": 15,
   "metadata": {},
   "outputs": [],
   "source": [
    "def accuracy(true, pred):\n",
    "    acc = None\n",
    "\n",
    "    same = 0\n",
    "    for i in range(len(true)):\n",
    "      if(true[i] == pred[i]):\n",
    "        same += 1\n",
    "    acc = same / len(true)\n",
    "\n",
    "    return acc\n",
    "\n",
    "def binary_f1(true, pred, selected_class=True):\n",
    "    f1 = None\n",
    "\n",
    "    tp = 0 # True Positive\n",
    "    fp = 0 # False Positive. Actually negative, but predicted to positive\n",
    "    fn = 0 # False Negative. Actually positive, but predicted to negative\n",
    "    tn = 0 # True Negative.\n",
    "\n",
    "    for i in range(len(true)):\n",
    "      if(true[i] == True) and (pred[i] == True):\n",
    "        tp = tp + 1\n",
    "      elif(true[i] == True) and (pred[i] == False):\n",
    "        fn = fn + 1\n",
    "      elif(true[i] == False) and (pred[i] == True):\n",
    "        fp = fp + 1\n",
    "      elif(true[i] == False) and (pred[i] == False):\n",
    "        tn = tn + 1\n",
    "    \n",
    "    if(selected_class == True):\n",
    "      precision = tp / (tp + fp + 1)\n",
    "      recall = tp / (tp + fn + 1)\n",
    "    elif(selected_class == False):\n",
    "      precision = tn / (tn + fn + 1)\n",
    "      recall = tn / (tn + fp + 1)\n",
    "\n",
    "    f1 = 2 * (precision*recall) / (precision + recall + 1e-10) #prevent zerodivision\n",
    "\n",
    "    return f1\n",
    "\n",
    "def binary_macro_f1(true, pred):\n",
    "    averaged_macro_f1 = 0.5*(binary_f1(true, pred, selected_class=True) + binary_f1(true, pred, selected_class=False))\n",
    "    return averaged_macro_f1"
   ]
  },
  {
   "cell_type": "code",
   "execution_count": null,
   "metadata": {},
   "outputs": [],
   "source": [
    "TOTAL_EPOCHS = 5\n",
    "for epoch in range(TOTAL_EPOCHS):\n",
    "    train_loss = train_loop(model, criterion, optimizer, train_iterator)\n",
    "    true, pred = val_loop(model, val_iterator)\n",
    "    print(f\"EPOCH: {epoch}\")\n",
    "    print(f\"TRAIN LOSS: {train_loss}\")\n",
    "    print(f\"VAL F-1: {binary_macro_f1(true, pred)}\")\n",
    "    print(f\"VAL ACC: {accuracy(true, pred)}\")"
   ]
  },
  {
   "cell_type": "code",
   "execution_count": null,
   "metadata": {},
   "outputs": [],
   "source": [
    "df[df[\"hit\"] == 1].shape"
   ]
  },
  {
   "cell_type": "code",
   "execution_count": null,
   "metadata": {},
   "outputs": [],
   "source": [
    "df.shape"
   ]
  },
  {
   "cell_type": "markdown",
   "metadata": {},
   "source": [
    "# LSTM model"
   ]
  },
  {
   "cell_type": "code",
   "execution_count": 16,
   "metadata": {},
   "outputs": [],
   "source": [
    "class RecurrentModel(nn.Module):\n",
    "    def __init__(self, vocab_size, embedding_dim, hidden_dim, \\\n",
    "                 num_layers=1, bidirectional=True):\n",
    "        super().__init__()\n",
    "\n",
    "        self.embedding = nn.Embedding(vocab_size, embedding_dim, padding_idx = 0)\n",
    "        self.lstm = nn.LSTM(embedding_dim, hidden_dim, num_layers = num_layers, bidirectional = bidirectional)\n",
    "        self.lin_sig = nn.Sequential(\n",
    "            nn.Linear(hidden_dim * 2 if bidirectional else hidden_dim, 1),\n",
    "            nn.Sigmoid()\n",
    "        )\n",
    "\n",
    "    def forward(self, x):\n",
    "        embedded = self.embedding(x)\n",
    "        embedded = torch.transpose(embedded, 0, 1)\n",
    "\n",
    "        outputs, (h, c) = self.lstm(embedded)\n",
    "\n",
    "        predictions = self.lin_sig(outputs)\n",
    "        predictions = torch.mean(predictions, axis = 0)\n",
    "        predictions = predictions.reshape((-1,))\n",
    "\n",
    "        return predictions\n",
    "    "
   ]
  },
  {
   "cell_type": "code",
   "execution_count": 17,
   "metadata": {},
   "outputs": [],
   "source": [
    "train_iterator = DataLoader(train_dataset, batch_size=BATCH_SIZE, sampler=train_sampler, collate_fn=collate_fn)\n",
    "val_iterator   = DataLoader(val_dataset, batch_size=BATCH_SIZE, sampler=val_sampler, collate_fn=collate_fn)\n",
    "test_iterator  = DataLoader(test_dataset, batch_size=BATCH_SIZE, sampler=test_sampler, collate_fn=collate_fn)"
   ]
  },
  {
   "cell_type": "code",
   "execution_count": 18,
   "metadata": {},
   "outputs": [],
   "source": [
    "lstm_model = RecurrentModel(vocab_size    = len(train_vocab.keys()),\n",
    "                            embedding_dim = 300,\n",
    "                            hidden_dim    = 300,\n",
    "                            num_layers    = 1,\n",
    "                            bidirectional = True).to(device)"
   ]
  },
  {
   "cell_type": "code",
   "execution_count": 19,
   "metadata": {},
   "outputs": [],
   "source": [
    "lstm_criterion = nn.BCELoss().to(torch.device(device))\n",
    "lstm_optimizer = Adam(lstm_model.parameters(), lr=0.003)"
   ]
  },
  {
   "cell_type": "code",
   "execution_count": 20,
   "metadata": {},
   "outputs": [
    {
     "name": "stderr",
     "output_type": "stream",
     "text": [
      "100%|██████████| 1658/1658 [00:51<00:00, 32.40it/s]\n",
      "100%|██████████| 208/208 [00:01<00:00, 119.04it/s]\n"
     ]
    },
    {
     "name": "stdout",
     "output_type": "stream",
     "text": [
      "EPOCH: 0\n",
      "TRAIN LOSS: 1075.2413330078125\n",
      "VAL F-1: 0.5685804533164841\n",
      "VAL ACC: 0.6289592760180995\n"
     ]
    },
    {
     "name": "stderr",
     "output_type": "stream",
     "text": [
      "100%|██████████| 1658/1658 [00:50<00:00, 33.08it/s]\n",
      "100%|██████████| 208/208 [00:01<00:00, 130.20it/s]\n"
     ]
    },
    {
     "name": "stdout",
     "output_type": "stream",
     "text": [
      "EPOCH: 1\n",
      "TRAIN LOSS: 976.503662109375\n",
      "VAL F-1: 0.5988481683637019\n",
      "VAL ACC: 0.633182503770739\n"
     ]
    },
    {
     "name": "stderr",
     "output_type": "stream",
     "text": [
      "100%|██████████| 1658/1658 [00:49<00:00, 33.30it/s]\n",
      "100%|██████████| 208/208 [00:01<00:00, 139.68it/s]\n"
     ]
    },
    {
     "name": "stdout",
     "output_type": "stream",
     "text": [
      "EPOCH: 2\n",
      "TRAIN LOSS: 832.355224609375\n",
      "VAL F-1: 0.6057402997552858\n",
      "VAL ACC: 0.6277526395173454\n"
     ]
    },
    {
     "name": "stderr",
     "output_type": "stream",
     "text": [
      "100%|██████████| 1658/1658 [00:49<00:00, 33.39it/s]\n",
      "100%|██████████| 208/208 [00:01<00:00, 121.42it/s]\n"
     ]
    },
    {
     "name": "stdout",
     "output_type": "stream",
     "text": [
      "EPOCH: 3\n",
      "TRAIN LOSS: 666.4716186523438\n",
      "VAL F-1: 0.5977074037468737\n",
      "VAL ACC: 0.6099547511312218\n"
     ]
    },
    {
     "name": "stderr",
     "output_type": "stream",
     "text": [
      "100%|██████████| 1658/1658 [00:51<00:00, 32.44it/s]\n",
      "100%|██████████| 208/208 [00:01<00:00, 121.52it/s]\n"
     ]
    },
    {
     "name": "stdout",
     "output_type": "stream",
     "text": [
      "EPOCH: 4\n",
      "TRAIN LOSS: 521.3535766601562\n",
      "VAL F-1: 0.5974350955285338\n",
      "VAL ACC: 0.6114630467571645\n"
     ]
    },
    {
     "name": "stderr",
     "output_type": "stream",
     "text": [
      "100%|██████████| 1658/1658 [00:50<00:00, 33.07it/s]\n",
      "100%|██████████| 208/208 [00:01<00:00, 143.74it/s]\n"
     ]
    },
    {
     "name": "stdout",
     "output_type": "stream",
     "text": [
      "EPOCH: 5\n",
      "TRAIN LOSS: 418.7719421386719\n",
      "VAL F-1: 0.5868491866356917\n",
      "VAL ACC: 0.5972850678733032\n"
     ]
    },
    {
     "name": "stderr",
     "output_type": "stream",
     "text": [
      "100%|██████████| 1658/1658 [00:51<00:00, 32.02it/s]\n",
      "100%|██████████| 208/208 [00:01<00:00, 121.59it/s]\n"
     ]
    },
    {
     "name": "stdout",
     "output_type": "stream",
     "text": [
      "EPOCH: 6\n",
      "TRAIN LOSS: 357.5799255371094\n",
      "VAL F-1: 0.5728016271098701\n",
      "VAL ACC: 0.6048265460030166\n"
     ]
    },
    {
     "name": "stderr",
     "output_type": "stream",
     "text": [
      "100%|██████████| 1658/1658 [00:53<00:00, 30.78it/s]\n",
      "100%|██████████| 208/208 [00:01<00:00, 130.41it/s]\n"
     ]
    },
    {
     "name": "stdout",
     "output_type": "stream",
     "text": [
      "EPOCH: 7\n",
      "TRAIN LOSS: 314.3688659667969\n",
      "VAL F-1: 0.581587697575056\n",
      "VAL ACC: 0.6009049773755656\n"
     ]
    },
    {
     "name": "stderr",
     "output_type": "stream",
     "text": [
      "100%|██████████| 1658/1658 [00:53<00:00, 30.83it/s]\n",
      "100%|██████████| 208/208 [00:01<00:00, 117.49it/s]\n"
     ]
    },
    {
     "name": "stdout",
     "output_type": "stream",
     "text": [
      "EPOCH: 8\n",
      "TRAIN LOSS: 288.42974853515625\n",
      "VAL F-1: 0.5786867302801472\n",
      "VAL ACC: 0.5957767722473605\n"
     ]
    },
    {
     "name": "stderr",
     "output_type": "stream",
     "text": [
      "100%|██████████| 1658/1658 [00:52<00:00, 31.47it/s]\n",
      "100%|██████████| 208/208 [00:01<00:00, 119.57it/s]\n"
     ]
    },
    {
     "name": "stdout",
     "output_type": "stream",
     "text": [
      "EPOCH: 9\n",
      "TRAIN LOSS: 265.5520324707031\n",
      "VAL F-1: 0.586384010212455\n",
      "VAL ACC: 0.6018099547511312\n"
     ]
    },
    {
     "name": "stderr",
     "output_type": "stream",
     "text": [
      "100%|██████████| 1658/1658 [00:52<00:00, 31.31it/s]\n",
      "100%|██████████| 208/208 [00:01<00:00, 123.00it/s]\n"
     ]
    },
    {
     "name": "stdout",
     "output_type": "stream",
     "text": [
      "EPOCH: 10\n",
      "TRAIN LOSS: 255.9941864013672\n",
      "VAL F-1: 0.5796682366273573\n",
      "VAL ACC: 0.6\n"
     ]
    },
    {
     "name": "stderr",
     "output_type": "stream",
     "text": [
      "100%|██████████| 1658/1658 [00:52<00:00, 31.56it/s]\n",
      "100%|██████████| 208/208 [00:01<00:00, 141.74it/s]\n"
     ]
    },
    {
     "name": "stdout",
     "output_type": "stream",
     "text": [
      "EPOCH: 11\n",
      "TRAIN LOSS: 257.0727844238281\n",
      "VAL F-1: 0.5819396621899497\n",
      "VAL ACC: 0.6036199095022624\n"
     ]
    },
    {
     "name": "stderr",
     "output_type": "stream",
     "text": [
      "100%|██████████| 1658/1658 [00:52<00:00, 31.76it/s]\n",
      "100%|██████████| 208/208 [00:01<00:00, 123.94it/s]\n"
     ]
    },
    {
     "name": "stdout",
     "output_type": "stream",
     "text": [
      "EPOCH: 12\n",
      "TRAIN LOSS: 241.17816162109375\n",
      "VAL F-1: 0.5862484407415689\n",
      "VAL ACC: 0.6012066365007541\n"
     ]
    },
    {
     "name": "stderr",
     "output_type": "stream",
     "text": [
      "100%|██████████| 1658/1658 [00:55<00:00, 29.69it/s]\n",
      "100%|██████████| 208/208 [00:01<00:00, 111.25it/s]\n"
     ]
    },
    {
     "name": "stdout",
     "output_type": "stream",
     "text": [
      "EPOCH: 13\n",
      "TRAIN LOSS: 227.02317810058594\n",
      "VAL F-1: 0.5720056903023583\n",
      "VAL ACC: 0.5936651583710407\n"
     ]
    },
    {
     "name": "stderr",
     "output_type": "stream",
     "text": [
      "100%|██████████| 1658/1658 [01:00<00:00, 27.58it/s]\n",
      "100%|██████████| 208/208 [00:01<00:00, 115.54it/s]\n"
     ]
    },
    {
     "name": "stdout",
     "output_type": "stream",
     "text": [
      "EPOCH: 14\n",
      "TRAIN LOSS: 221.8616180419922\n",
      "VAL F-1: 0.5745527440773631\n",
      "VAL ACC: 0.5906485671191554\n"
     ]
    },
    {
     "name": "stderr",
     "output_type": "stream",
     "text": [
      "100%|██████████| 1658/1658 [00:58<00:00, 28.44it/s]\n",
      "100%|██████████| 208/208 [00:01<00:00, 121.91it/s]\n"
     ]
    },
    {
     "name": "stdout",
     "output_type": "stream",
     "text": [
      "EPOCH: 15\n",
      "TRAIN LOSS: 211.6234893798828\n",
      "VAL F-1: 0.56920703776859\n",
      "VAL ACC: 0.5879336349924585\n"
     ]
    },
    {
     "name": "stderr",
     "output_type": "stream",
     "text": [
      "100%|██████████| 1658/1658 [00:58<00:00, 28.32it/s]\n",
      "100%|██████████| 208/208 [00:01<00:00, 127.46it/s]\n"
     ]
    },
    {
     "name": "stdout",
     "output_type": "stream",
     "text": [
      "EPOCH: 16\n",
      "TRAIN LOSS: 215.39613342285156\n",
      "VAL F-1: 0.5759328044620415\n",
      "VAL ACC: 0.5972850678733032\n"
     ]
    },
    {
     "name": "stderr",
     "output_type": "stream",
     "text": [
      "100%|██████████| 1658/1658 [00:51<00:00, 31.91it/s]\n",
      "100%|██████████| 208/208 [00:01<00:00, 130.72it/s]\n"
     ]
    },
    {
     "name": "stdout",
     "output_type": "stream",
     "text": [
      "EPOCH: 17\n",
      "TRAIN LOSS: 215.46658325195312\n",
      "VAL F-1: 0.5779911712567093\n",
      "VAL ACC: 0.604524886877828\n"
     ]
    },
    {
     "name": "stderr",
     "output_type": "stream",
     "text": [
      "100%|██████████| 1658/1658 [00:53<00:00, 31.19it/s]\n",
      "100%|██████████| 208/208 [00:01<00:00, 132.47it/s]\n"
     ]
    },
    {
     "name": "stdout",
     "output_type": "stream",
     "text": [
      "EPOCH: 18\n",
      "TRAIN LOSS: 215.99246215820312\n",
      "VAL F-1: 0.5772015170887824\n",
      "VAL ACC: 0.5984917043740573\n"
     ]
    },
    {
     "name": "stderr",
     "output_type": "stream",
     "text": [
      "100%|██████████| 1658/1658 [00:51<00:00, 31.96it/s]\n",
      "100%|██████████| 208/208 [00:01<00:00, 128.43it/s]\n"
     ]
    },
    {
     "name": "stdout",
     "output_type": "stream",
     "text": [
      "EPOCH: 19\n",
      "TRAIN LOSS: 199.5985565185547\n",
      "VAL F-1: 0.5750960335683564\n",
      "VAL ACC: 0.5954751131221719\n"
     ]
    },
    {
     "name": "stderr",
     "output_type": "stream",
     "text": [
      "100%|██████████| 1658/1658 [00:51<00:00, 31.96it/s]\n",
      "100%|██████████| 208/208 [00:01<00:00, 119.52it/s]\n"
     ]
    },
    {
     "name": "stdout",
     "output_type": "stream",
     "text": [
      "EPOCH: 20\n",
      "TRAIN LOSS: 195.6132049560547\n",
      "VAL F-1: 0.5693557363398061\n",
      "VAL ACC: 0.5894419306184012\n"
     ]
    },
    {
     "name": "stderr",
     "output_type": "stream",
     "text": [
      "100%|██████████| 1658/1658 [00:56<00:00, 29.14it/s]\n",
      "100%|██████████| 208/208 [00:01<00:00, 117.27it/s]\n"
     ]
    },
    {
     "name": "stdout",
     "output_type": "stream",
     "text": [
      "EPOCH: 21\n",
      "TRAIN LOSS: 198.49472045898438\n",
      "VAL F-1: 0.5733782440353609\n",
      "VAL ACC: 0.5945701357466063\n"
     ]
    },
    {
     "name": "stderr",
     "output_type": "stream",
     "text": [
      "100%|██████████| 1658/1658 [00:56<00:00, 29.33it/s]\n",
      "100%|██████████| 208/208 [00:01<00:00, 114.53it/s]\n"
     ]
    },
    {
     "name": "stdout",
     "output_type": "stream",
     "text": [
      "EPOCH: 22\n",
      "TRAIN LOSS: 194.08448791503906\n",
      "VAL F-1: 0.5818403861841323\n",
      "VAL ACC: 0.5972850678733032\n"
     ]
    },
    {
     "name": "stderr",
     "output_type": "stream",
     "text": [
      "100%|██████████| 1658/1658 [00:59<00:00, 27.80it/s]\n",
      "100%|██████████| 208/208 [00:01<00:00, 133.63it/s]\n"
     ]
    },
    {
     "name": "stdout",
     "output_type": "stream",
     "text": [
      "EPOCH: 23\n",
      "TRAIN LOSS: 187.73678588867188\n",
      "VAL F-1: 0.5688199035580682\n",
      "VAL ACC: 0.5903469079939668\n"
     ]
    },
    {
     "name": "stderr",
     "output_type": "stream",
     "text": [
      "100%|██████████| 1658/1658 [00:57<00:00, 28.64it/s]\n",
      "100%|██████████| 208/208 [00:01<00:00, 138.65it/s]\n"
     ]
    },
    {
     "name": "stdout",
     "output_type": "stream",
     "text": [
      "EPOCH: 24\n",
      "TRAIN LOSS: 195.3265838623047\n",
      "VAL F-1: 0.5720520872071158\n",
      "VAL ACC: 0.5963800904977375\n"
     ]
    },
    {
     "name": "stderr",
     "output_type": "stream",
     "text": [
      "100%|██████████| 1658/1658 [00:59<00:00, 27.99it/s]\n",
      "100%|██████████| 208/208 [00:02<00:00, 103.14it/s]\n"
     ]
    },
    {
     "name": "stdout",
     "output_type": "stream",
     "text": [
      "EPOCH: 25\n",
      "TRAIN LOSS: 195.0481719970703\n",
      "VAL F-1: 0.5668003036706871\n",
      "VAL ACC: 0.5855203619909503\n"
     ]
    },
    {
     "name": "stderr",
     "output_type": "stream",
     "text": [
      "100%|██████████| 1658/1658 [00:56<00:00, 29.15it/s]\n",
      "100%|██████████| 208/208 [00:01<00:00, 119.57it/s]\n"
     ]
    },
    {
     "name": "stdout",
     "output_type": "stream",
     "text": [
      "EPOCH: 26\n",
      "TRAIN LOSS: 187.36607360839844\n",
      "VAL F-1: 0.5771021584576231\n",
      "VAL ACC: 0.5918552036199095\n"
     ]
    },
    {
     "name": "stderr",
     "output_type": "stream",
     "text": [
      "100%|██████████| 1658/1658 [00:57<00:00, 28.66it/s]\n",
      "100%|██████████| 208/208 [00:01<00:00, 146.47it/s]\n"
     ]
    },
    {
     "name": "stdout",
     "output_type": "stream",
     "text": [
      "EPOCH: 27\n",
      "TRAIN LOSS: 191.87303161621094\n",
      "VAL F-1: 0.5709987912864878\n",
      "VAL ACC: 0.5882352941176471\n"
     ]
    },
    {
     "name": "stderr",
     "output_type": "stream",
     "text": [
      "100%|██████████| 1658/1658 [00:56<00:00, 29.60it/s]\n",
      "100%|██████████| 208/208 [00:01<00:00, 123.31it/s]\n"
     ]
    },
    {
     "name": "stdout",
     "output_type": "stream",
     "text": [
      "EPOCH: 28\n",
      "TRAIN LOSS: 189.7032470703125\n",
      "VAL F-1: 0.577902980452983\n",
      "VAL ACC: 0.5948717948717949\n"
     ]
    },
    {
     "name": "stderr",
     "output_type": "stream",
     "text": [
      "100%|██████████| 1658/1658 [00:55<00:00, 29.71it/s]\n",
      "100%|██████████| 208/208 [00:01<00:00, 116.37it/s]"
     ]
    },
    {
     "name": "stdout",
     "output_type": "stream",
     "text": [
      "EPOCH: 29\n",
      "TRAIN LOSS: 189.91241455078125\n",
      "VAL F-1: 0.5795798108769729\n",
      "VAL ACC: 0.5990950226244344\n"
     ]
    },
    {
     "name": "stderr",
     "output_type": "stream",
     "text": [
      "\n"
     ]
    }
   ],
   "source": [
    "accuracy_plot = []\n",
    "TOTAL_EPOCHS = 30\n",
    "for epoch in range(TOTAL_EPOCHS):\n",
    "    train_loss = train_loop(lstm_model, lstm_criterion, lstm_optimizer, train_iterator)\n",
    "    true, pred = val_loop(lstm_model, val_iterator)\n",
    "    accuracy_plot.append(accuracy(true, pred))\n",
    "    print(f\"EPOCH: {epoch}\")\n",
    "    print(f\"TRAIN LOSS: {train_loss}\")\n",
    "    print(f\"VAL F-1: {binary_macro_f1(true, pred)}\")\n",
    "    print(f\"VAL ACC: {accuracy(true, pred)}\")"
   ]
  },
  {
   "cell_type": "code",
   "execution_count": 28,
   "metadata": {},
   "outputs": [
    {
     "name": "stderr",
     "output_type": "stream",
     "text": [
      "100%|██████████| 208/208 [00:01<00:00, 133.27it/s]"
     ]
    },
    {
     "name": "stdout",
     "output_type": "stream",
     "text": [
      "\n",
      "TEST F-1: 0.5636440025044578\n",
      "TEST ACC: 0.5864253393665159\n"
     ]
    },
    {
     "name": "stderr",
     "output_type": "stream",
     "text": [
      "\n"
     ]
    },
    {
     "data": {
      "image/png": "[encoded data removed]",
      "text/plain": [
       "<Figure size 432x288 with 1 Axes>"
      ]
     },
     "metadata": {
      "needs_background": "light"
     },
     "output_type": "display_data"
    }
   ],
   "source": [
    "true, pred = val_loop(lstm_model, test_iterator)\n",
    "print()\n",
    "print(f\"TEST F-1: {binary_macro_f1(true, pred)}\")\n",
    "print(f\"TEST ACC: {accuracy(true, pred)}\")\n",
    "epochs = [range(0, TOTAL_EPOCHS)]\n",
    "fig = plt.figure()\n",
    "plt.title('LSTM Accuracy')\n",
    "plt.xlabel(\"Epochs\")\n",
    "plt.ylabel(\"Accuracy\")\n",
    "plt.scatter(epochs, accuracy_plot, color = 'blue')\n",
    "plt.show()"
   ]
  }
 ],
 "metadata": {
  "interpreter": {
   "hash": "9ddb23e51bf74c8e92c2ac4257bae0601254c9c7d972fd7c7abd355ea851f229"
  },
  "kernelspec": {
   "display_name": "Python 3.9.7 ('base')",
   "language": "python",
   "name": "python3"
  },
  "language_info": {
   "codemirror_mode": {
    "name": "ipython",
    "version": 3
   },
   "file_extension": ".py",
   "mimetype": "text/x-python",
   "name": "python",
   "nbconvert_exporter": "python",
   "pygments_lexer": "ipython3",
   "version": "3.9.12"
  },
  "orig_nbformat": 4
 },
 "nbformat": 4,
 "nbformat_minor": 2
}
