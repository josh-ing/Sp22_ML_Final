{
 "cells": [
  {
   "cell_type": "code",
   "execution_count": 29,
   "metadata": {},
   "outputs": [],
   "source": [
    "import numpy as np\n",
    "import sklearn\n",
    "from sklearn.tree import DecisionTreeClassifier\n",
    "from sklearn.ensemble import RandomForestClassifier\n",
    "import sklearn.metrics\n",
    "import matplotlib.pyplot as plt\n",
    "import csv"
   ]
  },
  {
   "cell_type": "code",
   "execution_count": 24,
   "metadata": {},
   "outputs": [],
   "source": [
    "class randomForest(object):\n",
    "    def __init__(self, n_estimators, max_depth, max_features, random_seed=None):\n",
    "        self.n_estimators = n_estimators\n",
    "        self.max_depth = max_depth\n",
    "        self.max_features = max_features\n",
    "        self.random_seed = random_seed\n",
    "        self.row_indices = []\n",
    "        self.feature_indices = []\n",
    "        self.out_of_bag = []\n",
    "        self.decision_trees = [sklearn.tree.DecisionTreeClassifier(max_depth=None, criterion='entropy') for i in range(n_estimators)]\n",
    "\n",
    "    def bootstrap(self, num_training, num_features, random_seed = None):\n",
    "        np.random.seed(seed = self.random_seed)\n",
    "        for i in range(self.n_estimators):\n",
    "            total = set(list(range(num_training)))\n",
    "            row_indices, col_indices = np.random.choice(num_training, num_training), np.random.choice(num_features, int(num_features * self.max_features), replace=False)\n",
    "            total = total - set(row_indices)\n",
    "            self.row_indices.append(row_indices)\n",
    "            self.feature_indices.append(col_indices)\n",
    "            self.out_of_bag.append(total)\n",
    "    \n",
    "    def fit_rforest(self, x, y):\n",
    "        self.bootstrap(np.shape(x)[0], np.shape(x)[1])\n",
    "        for i in range(self.n_estimators):\n",
    "            bsX = x[self.row_indices[i]][:,self.feature_indices[i]]\n",
    "            bsY = y[self.row_indices[i]]\n",
    "            self.decision_trees[i].fit(bsX, bsY)\n",
    "\n",
    "    def accuracy(self, X, y):\n",
    "        accuracy = []\n",
    "        for i in range(len(X)):\n",
    "            predictions = []\n",
    "            for j in range(self.n_estimators):\n",
    "                if i in self.out_of_bag[j]:\n",
    "                    predictions.append(self.decision_trees[j].predict(np.reshape(X[i][self.feature_indices[j]], (1,-1)))[0])\n",
    "            if len(predictions) > 0:\n",
    "                accuracy.append(np.sum(predictions == y[i]) / float(len(predictions)))\n",
    "        return np.mean(accuracy)\n"
   ]
  },
  {
   "cell_type": "code",
   "execution_count": 31,
   "metadata": {},
   "outputs": [
    {
     "name": "stdout",
     "output_type": "stream",
     "text": [
      "(265340, 6)\n",
      "(265340,)\n",
      "(66334, 6)\n",
      "(66334,)\n",
      "1.0\n"
     ]
    },
    {
     "ename": "ValueError",
     "evalue": "y_true takes value in {'0', '1'} and pos_label is not specified: either make y_true take value in {0, 1} or {-1, 1} or pass pos_label explicitly.",
     "output_type": "error",
     "traceback": [
      "\u001b[1;31m---------------------------------------------------------------------------\u001b[0m",
      "\u001b[1;31mValueError\u001b[0m                                Traceback (most recent call last)",
      "\u001b[1;32mc:\\Users\\kayla\\OneDrive\\Desktop\\CS4641\\Semester Project\\jng45.github.io\\randomForest.ipynb Cell 3'\u001b[0m in \u001b[0;36m<cell line: 47>\u001b[1;34m()\u001b[0m\n\u001b[0;32m     <a href='vscode-notebook-cell:/c%3A/Users/kayla/OneDrive/Desktop/CS4641/Semester%20Project/jng45.github.io/randomForest.ipynb#ch0000002?line=43'>44</a>\u001b[0m accuracy \u001b[39m=\u001b[39m sklearn\u001b[39m.\u001b[39mmetrics\u001b[39m.\u001b[39maccuracy_score(ytest, ypredicted)\n\u001b[0;32m     <a href='vscode-notebook-cell:/c%3A/Users/kayla/OneDrive/Desktop/CS4641/Semester%20Project/jng45.github.io/randomForest.ipynb#ch0000002?line=44'>45</a>\u001b[0m \u001b[39mprint\u001b[39m(accuracy)\n\u001b[1;32m---> <a href='vscode-notebook-cell:/c%3A/Users/kayla/OneDrive/Desktop/CS4641/Semester%20Project/jng45.github.io/randomForest.ipynb#ch0000002?line=46'>47</a>\u001b[0m false_positive_rate, true_positive_rate, thresholds \u001b[39m=\u001b[39m sklearn\u001b[39m.\u001b[39;49mmetrics\u001b[39m.\u001b[39;49mroc_curve(ytest, ypredicted)\n\u001b[0;32m     <a href='vscode-notebook-cell:/c%3A/Users/kayla/OneDrive/Desktop/CS4641/Semester%20Project/jng45.github.io/randomForest.ipynb#ch0000002?line=47'>48</a>\u001b[0m roc_auc \u001b[39m=\u001b[39m sklearn\u001b[39m.\u001b[39mmetrics\u001b[39m.\u001b[39mauc(false_positive_rate, true_positive_rate)\n\u001b[0;32m     <a href='vscode-notebook-cell:/c%3A/Users/kayla/OneDrive/Desktop/CS4641/Semester%20Project/jng45.github.io/randomForest.ipynb#ch0000002?line=48'>49</a>\u001b[0m \u001b[39mprint\u001b[39m(roc_auc)\n",
      "File \u001b[1;32m~\\Anaconda\\envs\\ml_hw4\\lib\\site-packages\\sklearn\\metrics\\_ranking.py:962\u001b[0m, in \u001b[0;36mroc_curve\u001b[1;34m(y_true, y_score, pos_label, sample_weight, drop_intermediate)\u001b[0m\n\u001b[0;32m    <a href='file:///c%3A/Users/kayla/Anaconda/envs/ml_hw4/lib/site-packages/sklearn/metrics/_ranking.py?line=872'>873</a>\u001b[0m \u001b[39mdef\u001b[39;00m \u001b[39mroc_curve\u001b[39m(\n\u001b[0;32m    <a href='file:///c%3A/Users/kayla/Anaconda/envs/ml_hw4/lib/site-packages/sklearn/metrics/_ranking.py?line=873'>874</a>\u001b[0m     y_true, y_score, \u001b[39m*\u001b[39m, pos_label\u001b[39m=\u001b[39m\u001b[39mNone\u001b[39;00m, sample_weight\u001b[39m=\u001b[39m\u001b[39mNone\u001b[39;00m, drop_intermediate\u001b[39m=\u001b[39m\u001b[39mTrue\u001b[39;00m\n\u001b[0;32m    <a href='file:///c%3A/Users/kayla/Anaconda/envs/ml_hw4/lib/site-packages/sklearn/metrics/_ranking.py?line=874'>875</a>\u001b[0m ):\n\u001b[0;32m    <a href='file:///c%3A/Users/kayla/Anaconda/envs/ml_hw4/lib/site-packages/sklearn/metrics/_ranking.py?line=875'>876</a>\u001b[0m     \u001b[39m\"\"\"Compute Receiver operating characteristic (ROC).\u001b[39;00m\n\u001b[0;32m    <a href='file:///c%3A/Users/kayla/Anaconda/envs/ml_hw4/lib/site-packages/sklearn/metrics/_ranking.py?line=876'>877</a>\u001b[0m \n\u001b[0;32m    <a href='file:///c%3A/Users/kayla/Anaconda/envs/ml_hw4/lib/site-packages/sklearn/metrics/_ranking.py?line=877'>878</a>\u001b[0m \u001b[39m    Note: this implementation is restricted to the binary classification task.\u001b[39;00m\n\u001b[1;32m   (...)\u001b[0m\n\u001b[0;32m    <a href='file:///c%3A/Users/kayla/Anaconda/envs/ml_hw4/lib/site-packages/sklearn/metrics/_ranking.py?line=959'>960</a>\u001b[0m \n\u001b[0;32m    <a href='file:///c%3A/Users/kayla/Anaconda/envs/ml_hw4/lib/site-packages/sklearn/metrics/_ranking.py?line=960'>961</a>\u001b[0m \u001b[39m    \"\"\"\u001b[39;00m\n\u001b[1;32m--> <a href='file:///c%3A/Users/kayla/Anaconda/envs/ml_hw4/lib/site-packages/sklearn/metrics/_ranking.py?line=961'>962</a>\u001b[0m     fps, tps, thresholds \u001b[39m=\u001b[39m _binary_clf_curve(\n\u001b[0;32m    <a href='file:///c%3A/Users/kayla/Anaconda/envs/ml_hw4/lib/site-packages/sklearn/metrics/_ranking.py?line=962'>963</a>\u001b[0m         y_true, y_score, pos_label\u001b[39m=\u001b[39;49mpos_label, sample_weight\u001b[39m=\u001b[39;49msample_weight\n\u001b[0;32m    <a href='file:///c%3A/Users/kayla/Anaconda/envs/ml_hw4/lib/site-packages/sklearn/metrics/_ranking.py?line=963'>964</a>\u001b[0m     )\n\u001b[0;32m    <a href='file:///c%3A/Users/kayla/Anaconda/envs/ml_hw4/lib/site-packages/sklearn/metrics/_ranking.py?line=965'>966</a>\u001b[0m     \u001b[39m# Attempt to drop thresholds corresponding to points in between and\u001b[39;00m\n\u001b[0;32m    <a href='file:///c%3A/Users/kayla/Anaconda/envs/ml_hw4/lib/site-packages/sklearn/metrics/_ranking.py?line=966'>967</a>\u001b[0m     \u001b[39m# collinear with other points. These are always suboptimal and do not\u001b[39;00m\n\u001b[0;32m    <a href='file:///c%3A/Users/kayla/Anaconda/envs/ml_hw4/lib/site-packages/sklearn/metrics/_ranking.py?line=967'>968</a>\u001b[0m     \u001b[39m# appear on a plotted ROC curve (and thus do not affect the AUC).\u001b[39;00m\n\u001b[1;32m   (...)\u001b[0m\n\u001b[0;32m    <a href='file:///c%3A/Users/kayla/Anaconda/envs/ml_hw4/lib/site-packages/sklearn/metrics/_ranking.py?line=972'>973</a>\u001b[0m     \u001b[39m# but does not drop more complicated cases like fps = [1, 3, 7],\u001b[39;00m\n\u001b[0;32m    <a href='file:///c%3A/Users/kayla/Anaconda/envs/ml_hw4/lib/site-packages/sklearn/metrics/_ranking.py?line=973'>974</a>\u001b[0m     \u001b[39m# tps = [1, 2, 4]; there is no harm in keeping too many thresholds.\u001b[39;00m\n\u001b[0;32m    <a href='file:///c%3A/Users/kayla/Anaconda/envs/ml_hw4/lib/site-packages/sklearn/metrics/_ranking.py?line=974'>975</a>\u001b[0m     \u001b[39mif\u001b[39;00m drop_intermediate \u001b[39mand\u001b[39;00m \u001b[39mlen\u001b[39m(fps) \u001b[39m>\u001b[39m \u001b[39m2\u001b[39m:\n",
      "File \u001b[1;32m~\\Anaconda\\envs\\ml_hw4\\lib\\site-packages\\sklearn\\metrics\\_ranking.py:748\u001b[0m, in \u001b[0;36m_binary_clf_curve\u001b[1;34m(y_true, y_score, pos_label, sample_weight)\u001b[0m\n\u001b[0;32m    <a href='file:///c%3A/Users/kayla/Anaconda/envs/ml_hw4/lib/site-packages/sklearn/metrics/_ranking.py?line=744'>745</a>\u001b[0m     y_score \u001b[39m=\u001b[39m y_score[nonzero_weight_mask]\n\u001b[0;32m    <a href='file:///c%3A/Users/kayla/Anaconda/envs/ml_hw4/lib/site-packages/sklearn/metrics/_ranking.py?line=745'>746</a>\u001b[0m     sample_weight \u001b[39m=\u001b[39m sample_weight[nonzero_weight_mask]\n\u001b[1;32m--> <a href='file:///c%3A/Users/kayla/Anaconda/envs/ml_hw4/lib/site-packages/sklearn/metrics/_ranking.py?line=747'>748</a>\u001b[0m pos_label \u001b[39m=\u001b[39m _check_pos_label_consistency(pos_label, y_true)\n\u001b[0;32m    <a href='file:///c%3A/Users/kayla/Anaconda/envs/ml_hw4/lib/site-packages/sklearn/metrics/_ranking.py?line=749'>750</a>\u001b[0m \u001b[39m# make y_true a boolean vector\u001b[39;00m\n\u001b[0;32m    <a href='file:///c%3A/Users/kayla/Anaconda/envs/ml_hw4/lib/site-packages/sklearn/metrics/_ranking.py?line=750'>751</a>\u001b[0m y_true \u001b[39m=\u001b[39m y_true \u001b[39m==\u001b[39m pos_label\n",
      "File \u001b[1;32m~\\Anaconda\\envs\\ml_hw4\\lib\\site-packages\\sklearn\\metrics\\_base.py:243\u001b[0m, in \u001b[0;36m_check_pos_label_consistency\u001b[1;34m(pos_label, y_true)\u001b[0m\n\u001b[0;32m    <a href='file:///c%3A/Users/kayla/Anaconda/envs/ml_hw4/lib/site-packages/sklearn/metrics/_base.py?line=231'>232</a>\u001b[0m \u001b[39mif\u001b[39;00m pos_label \u001b[39mis\u001b[39;00m \u001b[39mNone\u001b[39;00m \u001b[39mand\u001b[39;00m (\n\u001b[0;32m    <a href='file:///c%3A/Users/kayla/Anaconda/envs/ml_hw4/lib/site-packages/sklearn/metrics/_base.py?line=232'>233</a>\u001b[0m     classes\u001b[39m.\u001b[39mdtype\u001b[39m.\u001b[39mkind \u001b[39min\u001b[39;00m \u001b[39m\"\u001b[39m\u001b[39mOUS\u001b[39m\u001b[39m\"\u001b[39m\n\u001b[0;32m    <a href='file:///c%3A/Users/kayla/Anaconda/envs/ml_hw4/lib/site-packages/sklearn/metrics/_base.py?line=233'>234</a>\u001b[0m     \u001b[39mor\u001b[39;00m \u001b[39mnot\u001b[39;00m (\n\u001b[1;32m   (...)\u001b[0m\n\u001b[0;32m    <a href='file:///c%3A/Users/kayla/Anaconda/envs/ml_hw4/lib/site-packages/sklearn/metrics/_base.py?line=239'>240</a>\u001b[0m     )\n\u001b[0;32m    <a href='file:///c%3A/Users/kayla/Anaconda/envs/ml_hw4/lib/site-packages/sklearn/metrics/_base.py?line=240'>241</a>\u001b[0m ):\n\u001b[0;32m    <a href='file:///c%3A/Users/kayla/Anaconda/envs/ml_hw4/lib/site-packages/sklearn/metrics/_base.py?line=241'>242</a>\u001b[0m     classes_repr \u001b[39m=\u001b[39m \u001b[39m\"\u001b[39m\u001b[39m, \u001b[39m\u001b[39m\"\u001b[39m\u001b[39m.\u001b[39mjoin(\u001b[39mrepr\u001b[39m(c) \u001b[39mfor\u001b[39;00m c \u001b[39min\u001b[39;00m classes)\n\u001b[1;32m--> <a href='file:///c%3A/Users/kayla/Anaconda/envs/ml_hw4/lib/site-packages/sklearn/metrics/_base.py?line=242'>243</a>\u001b[0m     \u001b[39mraise\u001b[39;00m \u001b[39mValueError\u001b[39;00m(\n\u001b[0;32m    <a href='file:///c%3A/Users/kayla/Anaconda/envs/ml_hw4/lib/site-packages/sklearn/metrics/_base.py?line=243'>244</a>\u001b[0m         \u001b[39mf\u001b[39m\u001b[39m\"\u001b[39m\u001b[39my_true takes value in \u001b[39m\u001b[39m{{\u001b[39;00m\u001b[39m{\u001b[39;00mclasses_repr\u001b[39m}\u001b[39;00m\u001b[39m}}\u001b[39;00m\u001b[39m and pos_label is not \u001b[39m\u001b[39m\"\u001b[39m\n\u001b[0;32m    <a href='file:///c%3A/Users/kayla/Anaconda/envs/ml_hw4/lib/site-packages/sklearn/metrics/_base.py?line=244'>245</a>\u001b[0m         \u001b[39m\"\u001b[39m\u001b[39mspecified: either make y_true take value in \u001b[39m\u001b[39m{\u001b[39m\u001b[39m0, 1} or \u001b[39m\u001b[39m\"\u001b[39m\n\u001b[0;32m    <a href='file:///c%3A/Users/kayla/Anaconda/envs/ml_hw4/lib/site-packages/sklearn/metrics/_base.py?line=245'>246</a>\u001b[0m         \u001b[39m\"\u001b[39m\u001b[39m{\u001b[39m\u001b[39m-1, 1} or pass pos_label explicitly.\u001b[39m\u001b[39m\"\u001b[39m\n\u001b[0;32m    <a href='file:///c%3A/Users/kayla/Anaconda/envs/ml_hw4/lib/site-packages/sklearn/metrics/_base.py?line=246'>247</a>\u001b[0m     )\n\u001b[0;32m    <a href='file:///c%3A/Users/kayla/Anaconda/envs/ml_hw4/lib/site-packages/sklearn/metrics/_base.py?line=247'>248</a>\u001b[0m \u001b[39melif\u001b[39;00m pos_label \u001b[39mis\u001b[39;00m \u001b[39mNone\u001b[39;00m:\n\u001b[0;32m    <a href='file:///c%3A/Users/kayla/Anaconda/envs/ml_hw4/lib/site-packages/sklearn/metrics/_base.py?line=248'>249</a>\u001b[0m     pos_label \u001b[39m=\u001b[39m \u001b[39m1\u001b[39m\n",
      "\u001b[1;31mValueError\u001b[0m: y_true takes value in {'0', '1'} and pos_label is not specified: either make y_true take value in {0, 1} or {-1, 1} or pass pos_label explicitly."
     ]
    }
   ],
   "source": [
    "csv_file = open('KickStarterData_nb.csv', encoding=\"utf-8\")\n",
    "csv_reader = csv.reader(csv_file, delimiter=',')\n",
    "\n",
    "csv_list = list(csv_reader)\n",
    "#remove one for the feature titles\n",
    "totalN = len(csv_list) - 1\n",
    "#remove 2 for the id and the y column\n",
    "D = len(csv_list[1]) - 2\n",
    "\n",
    "#remove the feature titles\n",
    "csv_list.pop(0)\n",
    "#split into x and y, remove id\n",
    "nparray = np.array(csv_list)\n",
    "\n",
    "#shape of X: (331675, 6)\n",
    "X = nparray[0:totalN,1:]\n",
    "#shape of y: (331675,)\n",
    "y = nparray[:, D+1]\n",
    "\n",
    "#split into training and testing data\n",
    "train = int(totalN*0.8)\n",
    "Xtrain = X[:train]\n",
    "print(np.shape(Xtrain))\n",
    "ytrain = y[:train]\n",
    "print(np.shape(ytrain))\n",
    "Xtest = X[train+1:]\n",
    "print(np.shape(Xtest))\n",
    "ytest = y[train+1:]\n",
    "print(np.shape(ytest))\n",
    "\n",
    "# n_estimators = 10\n",
    "# max_depth = 3\n",
    "# max_features = 0.6\n",
    "# random_seed = 12345\n",
    "\n",
    "# random_forest = randomForest(n_estimators, max_depth, max_features, random_seed)\n",
    "# random_forest.fit_rforest(Xtrain, ytrain)\n",
    "# accuracy = random_forest.accuracy(Xtest, ytest)\n",
    "\n",
    "random_forest = sklearn.ensemble.RandomForestClassifier()\n",
    "random_forest.fit(Xtrain, ytrain)\n",
    "ypredicted = random_forest.predict(Xtest)\n",
    "\n",
    "accuracy = sklearn.metrics.accuracy_score(ytest, ypredicted)\n",
    "print(accuracy)\n",
    "\n",
    "false_positive_rate, true_positive_rate, thresholds = sklearn.metrics.roc_curve(ytest, ypredicted, pos_label='1')\n",
    "roc_auc = sklearn.metrics.auc(false_positive_rate, true_positive_rate)\n",
    "print(roc_auc)"
   ]
  }
 ],
 "metadata": {
  "interpreter": {
   "hash": "43a82382831d5fba1f3416ee2444681233383515fca786e8121660ccddea97a9"
  },
  "kernelspec": {
   "display_name": "Python 3.8.13 ('ml_hw4')",
   "language": "python",
   "name": "python3"
  },
  "language_info": {
   "codemirror_mode": {
    "name": "ipython",
    "version": 3
   },
   "file_extension": ".py",
   "mimetype": "text/x-python",
   "name": "python",
   "nbconvert_exporter": "python",
   "pygments_lexer": "ipython3",
   "version": "3.8.13"
  },
  "orig_nbformat": 4
 },
 "nbformat": 4,
 "nbformat_minor": 2
}
