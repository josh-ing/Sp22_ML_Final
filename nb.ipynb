{
 "cells": [
  {
   "cell_type": "markdown",
   "id": "b58471bb",
   "metadata": {},
   "source": [
    "Import Statements"
   ]
  },
  {
   "cell_type": "code",
   "execution_count": 4,
   "id": "334428e3",
   "metadata": {},
   "outputs": [],
   "source": [
    "import numpy as np\n",
    "import json\n",
    "import csv\n",
    "from sklearn.feature_extraction import text\n",
    "import matplotlib.pyplot as plt"
   ]
  },
  {
   "cell_type": "markdown",
   "id": "1dc14d26",
   "metadata": {},
   "source": [
    "Naive Bayes Class"
   ]
  },
  {
   "cell_type": "code",
   "execution_count": 34,
   "id": "c0b1b20d",
   "metadata": {},
   "outputs": [],
   "source": [
    "class NaiveBayes(object):\n",
    "    \n",
    "    def __init__(self):\n",
    "        # Load test file\n",
    "        csv_file = open('KickStarterData.csv', encoding=\"utf-8\")\n",
    "        csv_reader = csv.reader(csv_file, delimiter=',')\n",
    "\n",
    "        #print(len(list(csv_reader)))\n",
    "        \n",
    "        data_arr = np.empty((10, 15), dtype=object)\n",
    "        counter = 0\n",
    "        for row in csv_reader:\n",
    "            if (counter < 10):\n",
    "                temp_arr = np.array(row)\n",
    "                data_arr[counter] = temp_arr\n",
    "                counter += 1\n"
   ]
  },
  {
   "cell_type": "code",
   "execution_count": 35,
   "id": "650bad05",
   "metadata": {},
   "outputs": [
    {
     "name": "stdout",
     "output_type": "stream",
     "text": [
      "331676\n"
     ]
    }
   ],
   "source": [
    "nb = NaiveBayes()"
   ]
  },
  {
   "cell_type": "code",
   "execution_count": 2,
   "id": "be16b0d4",
   "metadata": {},
   "outputs": [],
   "source": [
    "class Cleaning(object):\n",
    "    #class to handle cleaning data (standardizing features, dimensionality reduction, etc.)\n",
    "    \n",
    "    def __init__(self):\n",
    "        self.U = None\n",
    "        self.V = None\n",
    "        self.S = None\n",
    "\n",
    "    #PCA for dimensionality reduction of the dataset\n",
    "    def pca(self, X, var = False, k=2):\n",
    "        \"\"\"\n",
    "        ARGS:\n",
    "            X: (N X D) data set as a numpy array, uncentered\n",
    "            var: whether to use retained variance or number of features as the basis of reduction\n",
    "            k: if var=FALSE, k is the number of features to be kept. if var=TRUE, k is the retained variance as a decimal\n",
    "\n",
    "        RETURNS:\n",
    "            new_data: dataset (as a numpy array) obtained by applying PCA on the original dataset\n",
    "\n",
    "        SETS:\n",
    "            self.U: (N, min(N,D))\n",
    "            self.V: (min(N,D), D)\n",
    "            self.S: (min(N,D), ) \n",
    "        \"\"\"\n",
    "\n",
    "        #center the data set\n",
    "        centeredData = X - np.mean(X, axis=0)\n",
    "        self.U, self.S, self.V = np.linalg.svd(centeredData, full_matrices = False)\n",
    "\n",
    "        #if var== False, do PCA based on the specified number of features\n",
    "        if (var == False):\n",
    "            #if k not entered correctly (less than one feature entered), assume default number of features\n",
    "            if (k < 1):\n",
    "                k = 2\n",
    "            self.U = self.U[:,0:k]\n",
    "            self.S = self.S[0:k]\n",
    "            self.V = self.V[0:k,:]\n",
    "            new_data = np.matmul(centeredData, (self.V).T)\n",
    "        \n",
    "        #if var==True, do PCA based on the specified number of features\n",
    "        else:\n",
    "            #if k not entered correctly (greater than 100%), assume default variance\n",
    "            if (k >= 1):\n",
    "                k = .99\n",
    "            new_data = np.matmul(centeredData, (self.V).T)\n",
    "            origVar = np.sum(np.square(self.S))\n",
    "            ssquared = np.square(self.S)\n",
    "            for i in range(np.shape(centeredData)[1]):\n",
    "                var = np.sum(ssquared[0:i])/origVar\n",
    "                if (var >= k):\n",
    "                    self.S = self.S[0:i]\n",
    "                    self.U = self.U[:,0:i]\n",
    "                    self.V = self.V[0:i,:]\n",
    "                    new_data= np.matmul(centeredData, (self.V).T)\n",
    "        \n",
    "        return new_data\n",
    "\n",
    "\n"
   ]
  },
  {
   "cell_type": "code",
   "execution_count": 10,
   "id": "7e8517be",
   "metadata": {},
   "outputs": [
    {
     "name": "stdout",
     "output_type": "stream",
     "text": [
      "['2147476221', '804', '39', '20.76', '75000', '4.055226667', '1']\n"
     ]
    },
    {
     "data": {
      "image/png": "[encoded data removed]",
      "text/plain": [
       "<Figure size 432x288 with 1 Axes>"
      ]
     },
     "metadata": {
      "needs_background": "light"
     },
     "output_type": "display_data"
    }
   ],
   "source": [
    "class Visualize(object):\n",
    "    def __init__(self):\n",
    "        csv_file = open('KickStarterData_nb.csv', encoding=\"utf-8\")\n",
    "        csv_reader = csv.reader(csv_file, delimiter=',')\n",
    "\n",
    "        #print((list(csv_reader)[0]))\n",
    "        self.csv_list = list(csv_reader)\n",
    "        #self.data_array = np.array(csv_list)\n",
    "        #print(np.shape(self.data_array))\n",
    "        #self.csv_list.pop[0]\n",
    "        \n",
    "        # self.data_arr = np.empty((len(list(csv_reader)), 15), dtype=object)\n",
    "        # counter = 0\n",
    "        # for row in csv_reader:\n",
    "        #     temp_arr = np.array(row)\n",
    "        #     self.data_arr[counter] = temp_arr\n",
    "        #     counter += 1\n",
    "        #     print(\"in for loop\")\n",
    "    \n",
    "    def average(self):\n",
    "        #category code per percent of goal reached per period of time (normalized)\n",
    "        #print(self.csv_file[0])\n",
    "        #print(type(self.csv_file[0]))\n",
    "        \n",
    "        # rows = np.shape(self.data_arr)[0]\n",
    "        # print(self.data_arr[0:2])\n",
    "        \n",
    "        x = []\n",
    "        x_dict = {}\n",
    "        y = []\n",
    "        counter = 0\n",
    "        print(self.csv_list[1])\n",
    "        for rowlist in self.csv_list:\n",
    "            if counter == 0:\n",
    "                counter += 1\n",
    "                continue\n",
    "            if (float(rowlist[1]) in x_dict):\n",
    "                x_dict[float(rowlist[1])].append(float(rowlist[5]))\n",
    "            else:\n",
    "                x_dict[float(rowlist[1])] = [float(rowlist[5])]\n",
    "        for key in x_dict.keys():\n",
    "            x.append(key)\n",
    "            y.append(sum(x_dict[key])/len(x_dict[key]))\n",
    "        \n",
    "\n",
    "\n",
    "        \n",
    "        figure = plt.figure()\n",
    "        axis = figure.add_axes([0,0,1,1])\n",
    "        axis.xaxis.set_ticks(np.arange(100, 1600, 100))\n",
    "        axis.scatter(x, y)\n",
    "        plt.show() \n",
    "\n",
    "    def count(self):\n",
    "        x_dict = {}\n",
    "        counter = 0\n",
    "        print(self.csv_list[1])\n",
    "        for rowlist in self.csv_list:\n",
    "            if counter == 0:\n",
    "                counter += 1\n",
    "                continue\n",
    "            if ((float(rowlist[1])//100)*100 in x_dict):\n",
    "                x_dict[(float(rowlist[1])//100)*100] += 1\n",
    "            else:\n",
    "                x_dict[(float(rowlist[1])//100)*100] = 1\n",
    "        x = x_dict.keys()\n",
    "        y = x_dict.values()\n",
    "        \n",
    "        figure = plt.figure()\n",
    "        axis = figure.add_axes([0,0,1,1])\n",
    "        axis.xaxis.set_ticks(np.arange(100, 1600, 100))\n",
    "        axis.bar(x, y)\n",
    "        plt.show() \n",
    "\n",
    "vis = Visualize()\n",
    "vis.average()\n",
    "        \n",
    "        \n",
    "        "
   ]
  }
 ],
 "metadata": {
  "kernelspec": {
   "display_name": "Python 3 (ipykernel)",
   "language": "python",
   "name": "python3"
  },
  "language_info": {
   "codemirror_mode": {
    "name": "ipython",
    "version": 3
   },
   "file_extension": ".py",
   "mimetype": "text/x-python",
   "name": "python",
   "nbconvert_exporter": "python",
   "pygments_lexer": "ipython3",
   "version": "3.9.7"
  }
 },
 "nbformat": 4,
 "nbformat_minor": 5
}
