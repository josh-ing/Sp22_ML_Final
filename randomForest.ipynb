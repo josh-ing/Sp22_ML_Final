{
 "cells": [
  {
   "cell_type": "markdown",
   "metadata": {},
   "source": [
    "### Import Statements"
   ]
  },
  {
   "cell_type": "code",
   "execution_count": 1,
   "metadata": {},
   "outputs": [],
   "source": [
    "import numpy as np\n",
    "import sklearn\n",
    "from sklearn.tree import DecisionTreeClassifier\n",
    "from sklearn.ensemble import RandomForestClassifier\n",
    "import sklearn.metrics\n",
    "import matplotlib.pyplot as plt\n",
    "import csv\n",
    "import pandas as pd"
   ]
  },
  {
   "cell_type": "markdown",
   "metadata": {},
   "source": [
    "## Classes"
   ]
  },
  {
   "cell_type": "code",
   "execution_count": 2,
   "metadata": {},
   "outputs": [],
   "source": [
    "class randomForest(object):\n",
    "    def __init__(self, n_estimators, max_depth, max_features, random_seed=None):\n",
    "        self.n_estimators = n_estimators\n",
    "        self.max_depth = max_depth\n",
    "        self.max_features = max_features\n",
    "        self.random_seed = random_seed\n",
    "        self.row_indices = []\n",
    "        self.feature_indices = []\n",
    "        self.out_of_bag = []\n",
    "        self.decision_trees = [sklearn.tree.DecisionTreeClassifier(max_depth=None, criterion='entropy') for i in range(n_estimators)]\n",
    "\n",
    "    def bootstrap(self, num_training, num_features, random_seed = None):\n",
    "        np.random.seed(seed = self.random_seed)\n",
    "        for i in range(self.n_estimators):\n",
    "            total = set(list(range(num_training)))\n",
    "            row_indices, col_indices = np.random.choice(num_training, num_training), np.random.choice(num_features, int(num_features * self.max_features), replace=False)\n",
    "            total = total - set(row_indices)\n",
    "            self.row_indices.append(row_indices)\n",
    "            self.feature_indices.append(col_indices)\n",
    "            self.out_of_bag.append(total)\n",
    "    \n",
    "    def fit_rforest(self, x, y):\n",
    "        self.bootstrap(np.shape(x)[0], np.shape(x)[1])\n",
    "        for i in range(self.n_estimators):\n",
    "            bsX = x[self.row_indices[i]][:,self.feature_indices[i]]\n",
    "            bsY = y[self.row_indices[i]]\n",
    "            self.decision_trees[i].fit(bsX, bsY)\n",
    "\n",
    "    def accuracy(self, X, y):\n",
    "        accuracy = []\n",
    "        for i in range(len(X)):\n",
    "            predictions = []\n",
    "            for j in range(self.n_estimators):\n",
    "                if i in self.out_of_bag[j]:\n",
    "                    predictions.append(self.decision_trees[j].predict(np.reshape(X[i][self.feature_indices[j]], (1,-1)))[0])\n",
    "            if len(predictions) > 0:\n",
    "                accuracy.append(np.sum(predictions == y[i]) / float(len(predictions)))\n",
    "        return np.mean(accuracy)\n"
   ]
  },
  {
   "cell_type": "code",
   "execution_count": 4,
   "metadata": {},
   "outputs": [],
   "source": [
    "class Cleaning(object):\n",
    "    #class to handle cleaning data (standardizing features, dimensionality reduction, etc.)\n",
    "    \n",
    "    #PCA for dimensionality reduction of the dataset\n",
    "    def pca(self, X, var = False, k=2):\n",
    "        \"\"\"\n",
    "        ARGS:\n",
    "            X: (N X D) data set as a numpy array, uncentered\n",
    "            var: whether to use retained variance or number of features as the basis of reduction\n",
    "            k: if var=FALSE, k is the number of features to be kept. if var=TRUE, k is the retained variance as a decimal\n",
    "\n",
    "        RETURNS:\n",
    "            new_data: dataset (as a numpy array) obtained by applying PCA on the original dataset\n",
    "        \"\"\"\n",
    "\n",
    "        #center the data set\n",
    "        centeredData = X - np.mean(X, axis=0)\n",
    "        __, S, V = np.linalg.svd(centeredData, full_matrices = False)\n",
    "\n",
    "        #if var== False, do PCA based on the specified number of features\n",
    "        if (var == False):\n",
    "            #if k not entered correctly (less than one feature entered), assume default number of features\n",
    "            if (k < 1):\n",
    "                k = 2\n",
    "            V = V[0:k,:]\n",
    "            new_data = np.matmul(centeredData, V.T)\n",
    "        \n",
    "        #if var==True, do PCA based on the specified number of features\n",
    "        else:\n",
    "            #if k not entered correctly (greater than 100%), assume default variance\n",
    "            if (k >= 1):\n",
    "                k = .99\n",
    "            new_data = np.matmul(centeredData, V.T)\n",
    "            ssquared = np.square(S)\n",
    "            origVar = np.sum(ssquared)\n",
    "            for i in range(np.shape(centeredData)[1]):\n",
    "                var = np.sum(ssquared[0:i])/origVar\n",
    "                if (var >= k):\n",
    "                    V_temp = V[0:i,:]\n",
    "                    new_data= np.matmul(centeredData, V_temp.T)\n",
    "                    break\n",
    "        return new_data\n",
    "\n",
    "\n",
    "\n"
   ]
  },
  {
   "cell_type": "markdown",
   "metadata": {},
   "source": [
    "## Training and Testing the Model"
   ]
  },
  {
   "cell_type": "code",
   "execution_count": 11,
   "metadata": {},
   "outputs": [
    {
     "name": "stdout",
     "output_type": "stream",
     "text": [
      "The model had an accuracy of 0.9911.\n",
      "The model had a precision of 0.9808.\n",
      "The model had a recall of 0.9973.\n",
      "The model had an f1 score of 0.9890.\n"
     ]
    }
   ],
   "source": [
    "# Dataset constants ==============================\n",
    "N = 331675   # Number of points\n",
    "D = 7   # Number of (useful) features\n",
    "C = 172    # Number of unique categories\n",
    "mC = 1508    # Largest label coding (plus one for array creation purposes)\n",
    "M = 12    # Number of unique months\n",
    "\n",
    "# Load test file\n",
    "csv_file = open('KickStarterData_nb.csv', encoding=\"utf-8\")\n",
    "csv_reader = csv.reader(csv_file, delimiter=',')\n",
    "        \n",
    "data_arr = np.empty((N, D + 1))    # D + 1 since need to account for the labels\n",
    "counter = -2    # For skipping the row of feature names \n",
    "for row in csv_reader:\n",
    "    counter += 1\n",
    "    if (counter == -1):\n",
    "        continue\n",
    "                            \n",
    "    temp_arr = np.array(row)\n",
    "    data_arr[counter] = temp_arr[1:]    # Ignores the ID vaules\n",
    "\n",
    "# Splits the data between data points and labels\n",
    "X = data_arr[:, 0:D]\n",
    "y = data_arr[:, D]\n",
    "\n",
    "# Cleans the data\n",
    "ord_columns = X[:, 0:2]    # Isolate the odrinal data\n",
    "clean = Cleaning()\n",
    "cleaned_x = clean.pca(X[:, 2:], k=5)    # Don't run ordinal data through PCA\n",
    "cleaned_x = np.hstack((ord_columns, cleaned_x))\n",
    "\n",
    "\n",
    "# Test on 20% of the dataset\n",
    "test_amount = N // 5\n",
    "Xtest = cleaned_x[0:test_amount, :]\n",
    "ytest = y[0:test_amount]\n",
    "Xtrain = cleaned_x[test_amount:, :]\n",
    "ytrain = y[test_amount:]\n",
    "\n",
    "\n",
    "random_forest = RandomForestClassifier()\n",
    "random_forest.fit(Xtrain, ytrain)\n",
    "ypredicted = random_forest.predict(Xtest)\n",
    "\n",
    "accuracy = sklearn.metrics.accuracy_score(ytest,ypredicted)\n",
    "precision = sklearn.metrics.precision_score(ytest, ypredicted)\n",
    "recall = sklearn.metrics.recall_score(ytest, ypredicted)\n",
    "f1 = sklearn.metrics.f1_score(ytest, ypredicted)\n",
    "print(\"The model had an accuracy of %.4f.\" % accuracy)\n",
    "print(\"The model had a precision of %.4f.\" % precision)\n",
    "print(\"The model had a recall of %.4f.\" % recall)\n",
    "print(\"The model had an f1 score of %.4f.\" % f1)\n",
    "\n",
    "# fig, axes = plt.subplots(nrows = 1,ncols = 1,figsize = (4,4), dpi=800)\n",
    "# sklearn.tree.plot_tree(random_forest.estimators_[0],\n",
    "#                feature_names = random_forest.feature_importances_, \n",
    "#                class_names=[\"Fail\", \"Success\"],\n",
    "#                filled = True);\n",
    "# plt.show()\n",
    "# fig.savefig('rf_individualtree.png')\n"
   ]
  },
  {
   "cell_type": "markdown",
   "metadata": {},
   "source": [
    "## Visualization"
   ]
  },
  {
   "cell_type": "code",
   "execution_count": 10,
   "metadata": {},
   "outputs": [
    {
     "data": {
      "image/png": "[encoded data removed]",
      "text/plain": [
       "<Figure size 720x540 with 1 Axes>"
      ]
     },
     "metadata": {
      "needs_background": "light"
     },
     "output_type": "display_data"
    }
   ],
   "source": [
    "feature_names = [\"Category Number\", \"Launch Month\", \"Number of Days in Campaign\", \"Number of Backers per Percent Time\", \"Goal in USD\", \"Average USD per Backer\", \"Average Goal Percent per Backer\"]\n",
    "importances = random_forest.feature_importances_\n",
    "forest_importances = pd.Series(importances, index=feature_names)\n",
    "std = np.std([tree.feature_importances_ for tree in random_forest.estimators_], axis=0)\n",
    "\n",
    "fig, ax = plt.subplots(figsize=(10, 7.5))\n",
    "forest_importances.plot.bar(yerr=std, ax=ax)\n",
    "ax.set_title(\"Feature importances using MDI\")\n",
    "ax.set_ylabel(\"Mean decrease in impurity\")\n",
    "fig.tight_layout()"
   ]
  }
 ],
 "metadata": {
  "interpreter": {
   "hash": "43a82382831d5fba1f3416ee2444681233383515fca786e8121660ccddea97a9"
  },
  "kernelspec": {
   "display_name": "Python 3 (ipykernel)",
   "language": "python",
   "name": "python3"
  },
  "language_info": {
   "codemirror_mode": {
    "name": "ipython",
    "version": 3
   },
   "file_extension": ".py",
   "mimetype": "text/x-python",
   "name": "python",
   "nbconvert_exporter": "python",
   "pygments_lexer": "ipython3",
   "version": "3.9.7"
  }
 },
 "nbformat": 4,
 "nbformat_minor": 2
}
